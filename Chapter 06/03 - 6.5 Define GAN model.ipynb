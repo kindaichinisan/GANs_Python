{
 "cells": [
  {
   "cell_type": "markdown",
   "metadata": {},
   "source": [
    "# Importing the library"
   ]
  },
  {
   "cell_type": "code",
   "execution_count": 1,
   "metadata": {},
   "outputs": [
    {
     "name": "stderr",
     "output_type": "stream",
     "text": [
      "Using TensorFlow backend.\n"
     ]
    }
   ],
   "source": [
    "import keras"
   ]
  },
  {
   "cell_type": "markdown",
   "metadata": {},
   "source": [
    "## Discriminator and Generator Synthetizer"
   ]
  },
  {
   "cell_type": "code",
   "execution_count": 2,
   "metadata": {},
   "outputs": [],
   "source": [
    "def define_discriminator(n_inputs= 2):\n",
    "    model = keras.models.Sequential()\n",
    "    model.add(keras.layers.Dense(units= 50,\n",
    "                                 activation= 'relu',\n",
    "                                 kernel_initializer= 'he_uniform',\n",
    "                                 input_dim= n_inputs))\n",
    "    model.add(keras.layers.Dense(units= 1, activation= 'sigmoid'))\n",
    "    model.compile(loss= 'binary_crossentropy',\n",
    "                  optimizer= 'adam',\n",
    "                  metrics= ['accuracy'])\n",
    "    \n",
    "    return model"
   ]
  },
  {
   "cell_type": "code",
   "execution_count": 3,
   "metadata": {},
   "outputs": [],
   "source": [
    "def define_generator(latent_dim, n_outputs= 2):\n",
    "    model = keras.models.Sequential()\n",
    "    model.add(keras.layers.Dense(units= 15,\n",
    "                                 activation= 'relu',\n",
    "                                 kernel_initializer= 'he_uniform',\n",
    "                                 input_dim= latent_dim))\n",
    "    model.add(keras.layers.Dense(units= n_outputs, activation= 'linear'))\n",
    "    \n",
    "    return model"
   ]
  },
  {
   "cell_type": "markdown",
   "metadata": {},
   "source": [
    "## GAN Synthetizer"
   ]
  },
  {
   "cell_type": "code",
   "execution_count": 4,
   "metadata": {},
   "outputs": [],
   "source": [
    "def define_gan(discriminator, generator, latent_dim):\n",
    "    discriminator.trainable = False\n",
    "    model = keras.models.Sequential(name= 'GAN Model')\n",
    "    model.add(generator)\n",
    "    model.add(discriminator)\n",
    "    model.compile(loss= 'binary_crossentropy',\n",
    "                  optimizer= 'adam')\n",
    "    return model"
   ]
  },
  {
   "cell_type": "markdown",
   "metadata": {},
   "source": [
    "## GAN Model Generation"
   ]
  },
  {
   "cell_type": "code",
   "execution_count": 5,
   "metadata": {},
   "outputs": [
    {
     "name": "stdout",
     "output_type": "stream",
     "text": [
      "Model: \"GAN Model\"\n",
      "_________________________________________________________________\n",
      "Layer (type)                 Output Shape              Param #   \n",
      "=================================================================\n",
      "sequential_1 (Sequential)    (None, 2)                 122       \n",
      "_________________________________________________________________\n",
      "sequential_2 (Sequential)    (None, 1)                 201       \n",
      "=================================================================\n",
      "Total params: 323\n",
      "Trainable params: 122\n",
      "Non-trainable params: 201\n",
      "_________________________________________________________________\n"
     ]
    }
   ],
   "source": [
    "latent_dim = 5\n",
    "gen_model = define_generator(latent_dim= latent_dim)\n",
    "dis_model = define_discriminator()\n",
    "gan = define_gan(latent_dim= latent_dim,\n",
    "                 generator= gen_model,\n",
    "                 discriminator= dis_model)\n",
    "gan.summary()"
   ]
  }
 ],
 "metadata": {
  "kernelspec": {
   "display_name": "Python 3",
   "language": "python",
   "name": "python3"
  },
  "language_info": {
   "codemirror_mode": {
    "name": "ipython",
    "version": 3
   },
   "file_extension": ".py",
   "mimetype": "text/x-python",
   "name": "python",
   "nbconvert_exporter": "python",
   "pygments_lexer": "ipython3",
   "version": "3.7.0"
  }
 },
 "nbformat": 4,
 "nbformat_minor": 4
}

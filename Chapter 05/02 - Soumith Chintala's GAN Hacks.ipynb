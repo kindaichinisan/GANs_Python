{
 "cells": [
  {
   "cell_type": "markdown",
   "metadata": {},
   "source": [
    "## 5.5.1 Use a Gaussian Latent Space"
   ]
  },
  {
   "cell_type": "code",
   "execution_count": 1,
   "metadata": {},
   "outputs": [
    {
     "name": "stdout",
     "output_type": "stream",
     "text": [
      "(500, 100) 0.008204687124338528 1.000434799332584\n"
     ]
    }
   ],
   "source": [
    "# example of sampling from a gaussian latent space\n",
    "from numpy.random import randn\n",
    "\n",
    "# generate points in latent space as input for the generator\n",
    "def generate_latent_points(latent_dim, n_samples):\n",
    "    # generate points in the latent space\n",
    "    x_input = randn(latent_dim * n_samples)\n",
    "    # reshape into a batch of inputs for the network\n",
    "    x_input = x_input.reshape((n_samples, latent_dim))\n",
    "    return x_input\n",
    "\n",
    "# size of latent space\n",
    "n_dim = 100\n",
    "# number of samples to generate\n",
    "n_samples = 500\n",
    "# generate samples\n",
    "samples = generate_latent_points(n_dim, n_samples)\n",
    "# summarize\n",
    "print(samples.shape, samples.mean(), samples.std())"
   ]
  },
  {
   "cell_type": "markdown",
   "metadata": {},
   "source": [
    "## 5.5.2 Separate Batches of Real and Fake Images"
   ]
  },
  {
   "cell_type": "code",
   "execution_count": null,
   "metadata": {},
   "outputs": [],
   "source": [
    "# not runnable\n",
    "...\n",
    "# get randomly selected ✬real✬ samples\n",
    "X_real, y_real = ...\n",
    "# update discriminator model weights\n",
    "discriminator.train_on_batch(X_real, y_real)\n",
    "# generate ✬fake✬ examples\n",
    "X_fake, y_fake = ...\n",
    "# update discriminator model weights\n",
    "discriminator.train_on_batch(X_fake, y_fake)"
   ]
  }
 ],
 "metadata": {
  "kernelspec": {
   "display_name": "gans",
   "language": "python",
   "name": "python3"
  },
  "language_info": {
   "codemirror_mode": {
    "name": "ipython",
    "version": 3
   },
   "file_extension": ".py",
   "mimetype": "text/x-python",
   "name": "python",
   "nbconvert_exporter": "python",
   "pygments_lexer": "ipython3",
   "version": "3.12.3"
  }
 },
 "nbformat": 4,
 "nbformat_minor": 2
}
